{
  "nbformat": 4,
  "nbformat_minor": 0,
  "metadata": {
    "colab": {
      "provenance": []
    },
    "kernelspec": {
      "name": "python3",
      "display_name": "Python 3"
    },
    "language_info": {
      "name": "python"
    }
  },
  "cells": [
    {
      "cell_type": "markdown",
      "source": [
        "Installation of LangChain And  LangChain Google Generative AI\n"
      ],
      "metadata": {
        "id": "q0iZP68iX0Qh"
      }
    },
    {
      "cell_type": "code",
      "execution_count": 1,
      "metadata": {
        "colab": {
          "base_uri": "https://localhost:8080/"
        },
        "id": "2kB9NCGJPC5u",
        "outputId": "e065ce3d-72a4-495d-fabf-0fc63a5e17eb"
      },
      "outputs": [
        {
          "output_type": "stream",
          "name": "stdout",
          "text": [
            "\u001b[?25l   \u001b[90m━━━━━━━━━━━━━━━━━━━━━━━━━━━━━━━━━━━━━━━━\u001b[0m \u001b[32m0.0/41.7 kB\u001b[0m \u001b[31m?\u001b[0m eta \u001b[36m-:--:--\u001b[0m\r\u001b[2K   \u001b[90m━━━━━━━━━━━━━━━━━━━━━━━━━━━━━━━━━━━━━━━━\u001b[0m \u001b[32m41.7/41.7 kB\u001b[0m \u001b[31m1.0 MB/s\u001b[0m eta \u001b[36m0:00:00\u001b[0m\n",
            "\u001b[?25h"
          ]
        }
      ],
      "source": [
        "!pip install -Uq langchain langchain-google-genai"
      ]
    },
    {
      "cell_type": "markdown",
      "source": [
        "Importing Google Gen AI"
      ],
      "metadata": {
        "id": "Q_mW7hpEYGMg"
      }
    },
    {
      "cell_type": "code",
      "source": [
        "import langchain_google_genai as genai"
      ],
      "metadata": {
        "id": "6ERFDSzrR-oP"
      },
      "execution_count": 2,
      "outputs": []
    },
    {
      "cell_type": "markdown",
      "source": [
        "From the libraries of langchain google genai we imported Google Gemini Chat Version"
      ],
      "metadata": {
        "id": "X8foBaFOYKoH"
      }
    },
    {
      "cell_type": "code",
      "source": [
        "from langchain_google_genai import ChatGoogleGenerativeAI"
      ],
      "metadata": {
        "id": "P1MMG_ZUTFT3"
      },
      "execution_count": 3,
      "outputs": []
    },
    {
      "cell_type": "markdown",
      "source": [
        "Getting UserData (API Key)"
      ],
      "metadata": {
        "id": "JnpYDEUMYUwN"
      }
    },
    {
      "cell_type": "code",
      "source": [
        "from google.colab import userdata\n",
        "GOOGLE_API_KEY = userdata.get('GOOGLE_API_KEY')\n"
      ],
      "metadata": {
        "id": "ndY0SglmTNKd"
      },
      "execution_count": 4,
      "outputs": []
    },
    {
      "cell_type": "markdown",
      "source": [
        "Defining A Model (Google Gemini 2.0 Flash Expermimental)"
      ],
      "metadata": {
        "id": "HXPsAjSTYZKQ"
      }
    },
    {
      "cell_type": "code",
      "source": [
        "llm : ChatGoogleGenerativeAI = ChatGoogleGenerativeAI(\n",
        "  model=\"gemini-2.0-flash-exp\",\n",
        "  api_key=GOOGLE_API_KEY,\n",
        ")"
      ],
      "metadata": {
        "id": "kmZJC54VTlYD"
      },
      "execution_count": 5,
      "outputs": []
    },
    {
      "cell_type": "markdown",
      "source": [
        "Generating the response through Google Genai"
      ],
      "metadata": {
        "id": "gM3wnxZZYfbG"
      }
    },
    {
      "cell_type": "code",
      "source": [
        "response = llm.invoke(\"What is the capital of Pakistan?\")"
      ],
      "metadata": {
        "id": "XPZLvIITUXX3"
      },
      "execution_count": 7,
      "outputs": []
    },
    {
      "cell_type": "markdown",
      "source": [
        "Printing the response"
      ],
      "metadata": {
        "id": "WLzzVhojYj9g"
      }
    },
    {
      "cell_type": "code",
      "source": [
        "print(response.content)"
      ],
      "metadata": {
        "colab": {
          "base_uri": "https://localhost:8080/"
        },
        "id": "1bSQAcxLVdyc",
        "outputId": "a00fc76a-53cb-4ad5-c582-8fc83ec2cd9c"
      },
      "execution_count": 8,
      "outputs": [
        {
          "output_type": "stream",
          "name": "stdout",
          "text": [
            "The capital of Pakistan is **Islamabad**.\n"
          ]
        }
      ]
    }
  ]
}